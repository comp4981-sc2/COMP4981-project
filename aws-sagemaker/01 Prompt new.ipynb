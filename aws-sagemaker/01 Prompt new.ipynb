{
 "cells": [
  {
   "cell_type": "markdown",
   "metadata": {},
   "source": [
    "# Install System Dependencies\n",
    "Use shell commands to install necessary system dependencies."
   ]
  },
  {
   "cell_type": "code",
   "execution_count": null,
   "metadata": {},
   "outputs": [],
   "source": [
    "%%capture\n",
    "!sudo apt-get update\n",
    "!sudo apt-get install -y make build-essential libssl-dev zlib1g-dev libbz2-dev \\\n",
    "    libreadline-dev libsqlite3-dev wget curl llvm libncurses5-dev libncursesw5-dev \\\n",
    "    xz-utils tk-dev libffi-dev liblzma-dev git lshw"
   ]
  },
  {
   "cell_type": "markdown",
   "metadata": {},
   "source": [
    "# Install Python Packages\n",
    "Use pip to install required Python packages."
   ]
  },
  {
   "cell_type": "code",
   "execution_count": null,
   "metadata": {},
   "outputs": [],
   "source": [
    "%%capture\n",
    "import subprocess\n",
    "import sys\n",
    "\n",
    "# Define the requirements array\n",
    "requirements = [\n",
    "    \"transformers\",\n",
    "    \"langchain\",\n",
    "    \"langchain-community\",\n",
    "    \"langchain-ollama\",\n",
    "    \"termcolor\"\n",
    "]\n",
    "\n",
    "# Install the packages\n",
    "for package in requirements:\n",
    "    subprocess.check_call([sys.executable, \"-m\", \"pip\", \"install\", package])"
   ]
  },
  {
   "cell_type": "markdown",
   "metadata": {},
   "source": [
    "# Define Constants and Import Libraries\n",
    "Define constants like MODEL_NAME and import necessary libraries."
   ]
  },
  {
   "cell_type": "code",
   "execution_count": null,
   "metadata": {},
   "outputs": [],
   "source": [
    "# Define Constants and Import Libraries\n",
    "\n",
    "# Define the model name constant\n",
    "MODEL_NAME = \"deepseek-coder-v2:latest\"\n",
    "\n",
    "# Import necessary libraries\n",
    "import subprocess\n",
    "import sys\n",
    "from termcolor import cprint\n",
    "from langchain_community.llms import Ollama\n",
    "\n",
    "# Initialize Ollama Instance\n",
    "llm = Ollama(model=MODEL_NAME)"
   ]
  },
  {
   "cell_type": "markdown",
   "metadata": {},
   "source": [
    "# Define Prompt Template\n",
    "Define the prompt template used for generating summary documentation."
   ]
  },
  {
   "cell_type": "code",
   "execution_count": null,
   "metadata": {},
   "outputs": [],
   "source": [
    "[code with summary]"
   ]
  },
  {
   "cell_type": "markdown",
   "metadata": {},
   "source": [
    "# Predefined Code Examples\n",
    "List predefined code examples that will be used for generating responses."
   ]
  },
  {
   "cell_type": "code",
   "execution_count": null,
   "metadata": {},
   "outputs": [],
   "source": [
    "# Predefined Code Examples\n",
    "\n",
    "# List of predefined code examples that will be used for generating responses\n",
    "code_examples = [\n",
    "    \"\"\"\n",
    "def fibonacci(n):\n",
    "    sequence = []\n",
    "    a, b = 0, 1\n",
    "    while a < n:\n",
    "        sequence.append(a)\n",
    "        a, b = b, a + b\n",
    "    return sequence\n",
    "    \"\"\",\n",
    "    \"\"\"\n",
    "class Restaurant:\n",
    "    def __init__(self, name, cuisine_type):\n",
    "        self.name = name\n",
    "        self.cuisine_type = cuisine_type\n",
    "        self.menu = {}\n",
    "\n",
    "    def add_dish(self, dish_name, price):\n",
    "        self.menu[dish_name] = price\n",
    "\n",
    "    def remove_dish(self, dish_name):\n",
    "        if dish_name in self.menu:\n",
    "            del self.menu[dish_name]\n",
    "\n",
    "    def get_menu(self):\n",
    "        return self.menu\n",
    "    \"\"\",\n",
    "    \"\"\"\n",
    "def merge_sorted_lists(list1, list2):\n",
    "    merged_list = []\n",
    "    i, j = 0, 0\n",
    "\n",
    "    while i < len(list1) and j < len(list2):\n",
    "        if list1[i] < list2[j]:\n",
    "            merged_list.append(list1[i])\n",
    "            i += 1\n",
    "        else:\n",
    "            merged_list.append(list2[j])\n",
    "            j += 1\n",
    "\n",
    "    merged_list.extend(list1[i:])\n",
    "    merged_list.extend(list2[j:])\n",
    "\n",
    "    return merged_list\n",
    "    \"\"\"\n",
    "]"
   ]
  },
  {
   "cell_type": "markdown",
   "metadata": {},
   "source": [
    "# Generate Response Function\n",
    "Define a function to generate responses from the model using the prompt template."
   ]
  },
  {
   "cell_type": "code",
   "execution_count": null,
   "metadata": {},
   "outputs": [],
   "source": [
    "[code with summary]"
   ]
  }
 ],
 "metadata": {
  "language_info": {
   "name": "python"
  }
 },
 "nbformat": 4,
 "nbformat_minor": 2
}
