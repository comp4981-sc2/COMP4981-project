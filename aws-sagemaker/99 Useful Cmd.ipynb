{
 "cells": [
  {
   "cell_type": "code",
   "execution_count": 1,
   "id": "96a47dbe-d18c-4e14-bc92-a2645c70e4dd",
   "metadata": {},
   "outputs": [
    {
     "name": "stdout",
     "output_type": "stream",
     "text": [
      "Total Storage on '/home/sagemaker-user' : [59.97 GB] | Used: [8.76 GB] | Free: [51.21 GB]\n"
     ]
    }
   ],
   "source": [
    "# DISK/STORAGE INFO\n",
    "import os\n",
    "# from colablib.colored_print import cprint, print_line\n",
    "import psutil\n",
    "directory = \"/home/sagemaker-user\" # Change the path to check the others.\n",
    "disk_space = psutil.disk_usage(directory)\n",
    "total = disk_space.total / (1024 ** 3)\n",
    "used = disk_space.used / (1024 ** 3)\n",
    "free = disk_space.free / (1024 ** 3)\n",
    "# cprint(f\"Total Storage on '{directory}' : [{total:.2f} GB] | Used: [{used:.2f} GB] | Free: [{free:.2f} GB]\", color=\"flat_cyan\")\n",
    "print(f\"Total Storage on '{directory}' : [{total:.2f} GB] | Used: [{used:.2f} GB] | Free: [{free:.2f} GB]\")"
   ]
  },
  {
   "cell_type": "code",
   "execution_count": null,
   "id": "cf3e2daf-d52c-4c22-bbef-9e5de750fca0",
   "metadata": {},
   "outputs": [],
   "source": [
    "# df -H\n",
    "# du -h --max-depth=1 /home/sagemaker-user\n",
    "# rm -r /home/sagemaker-user/.cache\n",
    "# rm -r /home/sagemaker-user/.ollama"
   ]
  },
  {
   "cell_type": "code",
   "execution_count": null,
   "id": "5891bf2a-643c-418d-8b0a-ee9deecd2447",
   "metadata": {},
   "outputs": [],
   "source": []
  },
  {
   "cell_type": "code",
   "execution_count": null,
   "id": "3e5bcb7f-bd94-477b-b418-8d85fd305cc7",
   "metadata": {},
   "outputs": [],
   "source": []
  },
  {
   "cell_type": "code",
   "execution_count": null,
   "id": "9f2bf401-0b84-4a3e-b55f-f940ab6aee89",
   "metadata": {},
   "outputs": [],
   "source": [
    "# DELETE ALL LIBRARY, DON'T run this if you're don't know what are you doing.\n",
    "# delete all packages\n",
    "%cd ~/\n",
    "!pip freeze > reqs.txt\n",
    "!pip uninstall -y -r reqs.txt"
   ]
  }
 ],
 "metadata": {
  "kernelspec": {
   "display_name": "Python 3 (ipykernel)",
   "language": "python",
   "name": "python3"
  },
  "language_info": {
   "codemirror_mode": {
    "name": "ipython",
    "version": 3
   },
   "file_extension": ".py",
   "mimetype": "text/x-python",
   "name": "python",
   "nbconvert_exporter": "python",
   "pygments_lexer": "ipython3",
   "version": "3.11.9"
  }
 },
 "nbformat": 4,
 "nbformat_minor": 5
}
